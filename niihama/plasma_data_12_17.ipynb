{
  "nbformat": 4,
  "nbformat_minor": 0,
  "metadata": {
    "colab": {
      "name": "plasma-data-12-17.ipynb",
      "provenance": [],
      "collapsed_sections": [
        "dXRIwmQGp2bK"
      ],
      "toc_visible": true,
      "mount_file_id": "1aO4X_3FUU-DdbooIkeTBrUaMajOkjPxn",
      "authorship_tag": "ABX9TyOhtHbmSnv5YJF5CLP8ZQi2",
      "include_colab_link": true
    },
    "kernelspec": {
      "name": "python3",
      "display_name": "Python 3"
    }
  },
  "cells": [
    {
      "cell_type": "markdown",
      "metadata": {
        "id": "view-in-github",
        "colab_type": "text"
      },
      "source": [
        "<a href=\"https://colab.research.google.com/github/AtsushiNi/myLeprecon/blob/master/niihama/plasma_data_12_17.ipynb\" target=\"_parent\"><img src=\"https://colab.research.google.com/assets/colab-badge.svg\" alt=\"Open In Colab\"/></a>"
      ]
    },
    {
      "cell_type": "markdown",
      "metadata": {
        "id": "kdIEPvEQe95l"
      },
      "source": [
        "# 概要\n",
        "露光時間が短すぎてデータが綺麗に撮れなかったと判明<br>\n",
        "露光時間を7秒に増やしてプラズマを撮った<br>\n",
        "とりあえず感度校正は後回し"
      ]
    },
    {
      "cell_type": "code",
      "metadata": {
        "colab": {
          "base_uri": "https://localhost:8080/"
        },
        "id": "lH4CH2sC_BbZ",
        "outputId": "8f0d7526-839e-4145-c401-d0b4208035bf"
      },
      "source": [
        "!pip install git+https://github.com/fujiisoup/pyspectra.git\n",
        "!pip install netCDF4"
      ],
      "execution_count": null,
      "outputs": [
        {
          "output_type": "stream",
          "text": [
            "Collecting git+https://github.com/fujiisoup/pyspectra.git\n",
            "  Cloning https://github.com/fujiisoup/pyspectra.git to /tmp/pip-req-build-81ssnlsn\n",
            "  Running command git clone -q https://github.com/fujiisoup/pyspectra.git /tmp/pip-req-build-81ssnlsn\n",
            "Requirement already satisfied: numpy>=1.11 in /usr/local/lib/python3.6/dist-packages (from pyspectra==0.0.1) (1.19.4)\n",
            "Requirement already satisfied: scipy>=1.00 in /usr/local/lib/python3.6/dist-packages (from pyspectra==0.0.1) (1.4.1)\n",
            "Building wheels for collected packages: pyspectra\n",
            "  Building wheel for pyspectra (setup.py) ... \u001b[?25l\u001b[?25hdone\n",
            "  Created wheel for pyspectra: filename=pyspectra-0.0.1-cp36-none-any.whl size=18787 sha256=c5e3514bc101b46ba4aff8d93e4a3a1bacde66a6c68f0b60779bd85f214607d8\n",
            "  Stored in directory: /tmp/pip-ephem-wheel-cache-psvw43p5/wheels/a7/c4/4a/152e6df7ccc3c6838abee31c086e30a3690c80966eb588e7a2\n",
            "Successfully built pyspectra\n",
            "Installing collected packages: pyspectra\n",
            "Successfully installed pyspectra-0.0.1\n",
            "Collecting netCDF4\n",
            "\u001b[?25l  Downloading https://files.pythonhosted.org/packages/1a/71/a321abeee439caf94850b4f68ecef68d2ad584a5a9566816c051654cff94/netCDF4-1.5.5.1-cp36-cp36m-manylinux2014_x86_64.whl (4.7MB)\n",
            "\u001b[K     |████████████████████████████████| 4.7MB 8.3MB/s \n",
            "\u001b[?25hRequirement already satisfied: numpy>=1.9 in /usr/local/lib/python3.6/dist-packages (from netCDF4) (1.19.4)\n",
            "Collecting cftime\n",
            "\u001b[?25l  Downloading https://files.pythonhosted.org/packages/66/60/bad8525d2c046eb2964911bc412a85ba240b31c7b43f0c19377233992c6c/cftime-1.3.0-cp36-cp36m-manylinux1_x86_64.whl (295kB)\n",
            "\u001b[K     |████████████████████████████████| 296kB 43.2MB/s \n",
            "\u001b[?25hInstalling collected packages: cftime, netCDF4\n",
            "Successfully installed cftime-1.3.0 netCDF4-1.5.5.1\n"
          ],
          "name": "stdout"
        }
      ]
    },
    {
      "cell_type": "code",
      "metadata": {
        "id": "5JuoYZC3eL1M"
      },
      "source": [
        "import os\n",
        "from os.path import join\n",
        "import numpy as np\n",
        "import xarray as xr\n",
        "import matplotlib.pyplot as plt\n",
        "import pyspectra\n",
        "import pandas as pd\n",
        "import math\n",
        "from scipy import interpolate\n",
        "from scipy import integrate\n",
        "from scipy.optimize import curve_fit\n",
        "from sympy.physics.wigner import wigner_3j\n",
        "from functools import reduce"
      ],
      "execution_count": null,
      "outputs": []
    },
    {
      "cell_type": "code",
      "metadata": {
        "id": "Sn7_sUJqeUax"
      },
      "source": [
        "data_path = '/content/drive/MyDrive/研究室/myLeprecon/SpectrometerData/20201217_niihama'\n",
        "print(os.path.exists(data_path))"
      ],
      "execution_count": null,
      "outputs": []
    },
    {
      "cell_type": "code",
      "metadata": {
        "id": "df1sqZmQejV6"
      },
      "source": [
        "file_names = [f'H_{430000 + 5000*i}.nc' for i in range(8)]\n",
        "data = []\n",
        "for file_name in file_names:\n",
        "    data_array = xr.open_dataarray(join(data_path, file_name))\n",
        "    data_array['motor_coordinate'] = data_array.attrs['motor_coordinate']\n",
        "    data_array['exposure'] = data_array.attrs['exposure']\n",
        "    data.append(data_array)\n",
        "data = xr.concat(data, dim='motor_coordinate')\n",
        "\n",
        "plasma_data = []\n",
        "for i, p in enumerate(data['motor_coordinate']):\n",
        "  d = data.sel(motor_coordinate=p).copy()\n",
        "  d['long_x'] = d['x'][::-1] - 1000 * i\n",
        "  d['x'] = data['x']\n",
        "  plasma_data.append(d.sum('y'))\n",
        "plasma_data = xr.concat(plasma_data, dim='motor_coordinate')"
      ],
      "execution_count": null,
      "outputs": []
    },
    {
      "cell_type": "code",
      "metadata": {
        "id": "3rcFCZ7VevPE"
      },
      "source": [
        "file_names = [f'back_{430000 + 5000*i}.nc' for i in range(8)]\n",
        "data = []\n",
        "for file_name in file_names:\n",
        "    data_array = xr.open_dataarray(join(data_path, file_name))\n",
        "    data_array['motor_coordinate'] = data_array.attrs['motor_coordinate']\n",
        "    data_array['exposure'] = data_array.attrs['exposure']\n",
        "    data.append(data_array)\n",
        "data = xr.concat(data, dim='motor_coordinate')\n",
        "\n",
        "back_data = []\n",
        "for i, p in enumerate(data['motor_coordinate']):\n",
        "    d = data.sel(motor_coordinate=p).copy()\n",
        "    d['long_x'] = d['x'][::-1] - 1000 * i\n",
        "    d['x'] = data['x']\n",
        "    back_data.append(d.sum('y'))\n",
        "back_data = xr.concat(back_data, dim='motor_coordinate')"
      ],
      "execution_count": null,
      "outputs": []
    },
    {
      "cell_type": "code",
      "metadata": {
        "id": "VUbthVHtfTPT"
      },
      "source": [
        "spectrum_data = plasma_data - back_data * 1.0\n",
        "\n",
        "plt.figure(figsize=[15, 10])\n",
        "plt.subplot(3, 1, 1)\n",
        "plt.ylim(1.2*1e6, 5*1e6)\n",
        "plt.title('plasma')\n",
        "for f in plasma_data:\n",
        "  plt.plot(f['long_x'], f)\n",
        "\n",
        "plt.subplot(3, 1, 2)\n",
        "plt.title('back ground')\n",
        "plt.ylim(1.03*1e6, 1.9*1e6)\n",
        "for f in back_data:\n",
        "  plt.plot(f['long_x'], f)\n",
        "\n",
        "plt.subplot(3, 1, 3)\n",
        "plt.title('H2 spectrum')\n",
        "for f in spectrum_data:\n",
        "  plt.plot(f['long_x'], f)"
      ],
      "execution_count": null,
      "outputs": []
    },
    {
      "cell_type": "markdown",
      "metadata": {
        "id": "yHV-6zqwf56Z"
      },
      "source": [
        "# 波長校正"
      ]
    },
    {
      "cell_type": "code",
      "metadata": {
        "id": "3DVI1hEXfUk2"
      },
      "source": [
        "def fit(da):\n",
        "  popt, perr = pyspectra.fit.singlepeak_fit(da['x'].values, da.values)\n",
        "  return xr.Dataset({\n",
        "      'A': popt[0], 'x0': popt[1], 'w': popt[2], 'y0': popt[3],\n",
        "      'data': da,\n",
        "      'fit': ('x', pyspectra.profiles.Gauss(da['x'].values, *popt))},\n",
        "      coords={'x': da['x']})"
      ],
      "execution_count": null,
      "outputs": []
    },
    {
      "cell_type": "markdown",
      "metadata": {
        "id": "V44sqe2ef_lQ"
      },
      "source": [
        "## (v' - v\") = (0 - 0)"
      ]
    },
    {
      "cell_type": "code",
      "metadata": {
        "id": "0jwr6etTf-Nb"
      },
      "source": [
        "plt.figure(figsize=(30, 5))\n",
        "spectrum_data.sel(motor_coordinate=465000).plot()\n",
        "#plt.xlim(210, 310)\n",
        "#plt.ylim(0, 400000)"
      ],
      "execution_count": null,
      "outputs": []
    },
    {
      "cell_type": "code",
      "metadata": {
        "id": "vXnZoLmIguS9"
      },
      "source": [
        "spectrum_lims = [\n",
        "  [1120, 1165],\n",
        "  [990, 1040],\n",
        "  [815, 860],\n",
        "  [570, 610],\n",
        "  [210, 310],\n",
        "#  [240, 280]\n",
        "]\n",
        "wave_lengths = [\n",
        "  601.8299,\n",
        "  602.3757,\n",
        "  603.1909,\n",
        "  604.2716,\n",
        "  605.6091,\n",
        "  607.1996,\n",
        "  609.0374,\n",
        "  610.9030\n",
        "]\n",
        "plt.figure(figsize=(35, 10))\n",
        "result_00 = []\n",
        "\n",
        "for i, lims in enumerate(spectrum_lims):\n",
        "    result = fit(spectrum_data.sel(motor_coordinate=465000).sel(x=slice(spectrum_lims[i][0], spectrum_lims[i][1])))\n",
        "    result['v'] = 0\n",
        "    result['N'] = i+1\n",
        "    result['wave_length'] = wave_lengths[i]\n",
        "    result['long_x'] = spectrum_data.sel(motor_coordinate=465000).isel(x=int(result['x0'].values.tolist()))['long_x']\n",
        "    plt.subplot(2, len(spectrum_lims), i+1)\n",
        "    result['data'].plot(marker='.')\n",
        "    result['fit'].plot()\n",
        "    plt.title('N = {}'.format(i+1))\n",
        "    plt.xlabel('pixels')\n",
        "    plt.ylabel('intensity')\n",
        "    result_00.append(result)\n",
        "result_00 = xr.concat(result_00, dim='N')\n",
        "\n",
        "plt.figure(figsize=[35, 10])\n",
        "plt.subplot(2, i+1, i+2)\n",
        "plt.plot(result_00['x0'], result_00['wave_length'], marker='o')\n",
        "plt.title('x0 --- wave length')\n",
        "plt.xlabel('x0 (pixel)')\n",
        "plt.ylabel('wave length (nm)')"
      ],
      "execution_count": null,
      "outputs": []
    },
    {
      "cell_type": "markdown",
      "metadata": {
        "id": "ak4iEA5cjUBB"
      },
      "source": [
        "## (v' - v\") = (1 - 1)"
      ]
    },
    {
      "cell_type": "code",
      "metadata": {
        "id": "yHnkNWdOjYPV"
      },
      "source": [
        "plt.figure(figsize=(30, 5))\n",
        "spectrum_data.sel(motor_coordinate=455000).plot()\n",
        "#plt.xlim(0, 310)\n",
        "#plt.ylim(0, 400000)"
      ],
      "execution_count": null,
      "outputs": []
    },
    {
      "cell_type": "code",
      "metadata": {
        "id": "YBANgrVLjiO2"
      },
      "source": [
        "spectrum_lims = [\n",
        "  [750, 800],\n",
        "  [610, 680],\n",
        "  [435, 480],\n",
        "  [180, 227],\n",
        "]\n",
        "wave_lengths = [\n",
        "  612.1787,\n",
        "  612.7246,\n",
        "  613.5395,\n",
        "  614.6186,\n",
        "  615.9565\n",
        "]\n",
        "plt.figure(figsize=(35, 5))\n",
        "result_11 = []\n",
        "\n",
        "for i, lims in enumerate(spectrum_lims):\n",
        "    result = fit(spectrum_data.sel(motor_coordinate=455000).sel(x=slice(spectrum_lims[i][0], spectrum_lims[i][1])))\n",
        "    result['v'] = 0\n",
        "    result['N'] = i+1\n",
        "    result['wave_length'] = wave_lengths[i]\n",
        "    result['long_x'] = spectrum_data.sel(motor_coordinate=455000).isel(x=int(result['x0'].values.tolist()))['long_x']\n",
        "    plt.subplot(2, len(spectrum_lims), i+1)\n",
        "    result['data'].plot(marker='.')\n",
        "    result['fit'].plot()\n",
        "    plt.title('N = {}'.format(i+1))\n",
        "    plt.xlabel('pixels')\n",
        "    plt.ylabel('intensity')\n",
        "    result_11.append(result)\n",
        "result_11 = xr.concat(result_11, dim='N')\n",
        "\n",
        "plt.figure(figsize=[35, 10])\n",
        "plt.subplot(2, i+1, i+2)\n",
        "plt.plot(result_11['x0'], result_11['wave_length'], marker='o')\n",
        "plt.title('x0 --- wave length')\n",
        "plt.xlabel('x0 (pixel)')\n",
        "plt.ylabel('wave length (nm)')"
      ],
      "execution_count": null,
      "outputs": []
    },
    {
      "cell_type": "markdown",
      "metadata": {
        "id": "pws8p4_fkLxf"
      },
      "source": [
        "## (v' - v\") = (2 - 2)"
      ]
    },
    {
      "cell_type": "code",
      "metadata": {
        "id": "qxnOnOwwkC6T"
      },
      "source": [
        "plt.figure(figsize=(30, 5))\n",
        "spectrum_data.sel(motor_coordinate=445000).plot()\n",
        "#plt.xlim(0, 310)\n",
        "#plt.ylim(0, 400000)"
      ],
      "execution_count": null,
      "outputs": []
    },
    {
      "cell_type": "code",
      "metadata": {
        "id": "mXP2MdSlkcS5"
      },
      "source": [
        "spectrum_lims = [\n",
        "  [345, 390],\n",
        "  [215, 260],\n",
        "  [18, 63],\n",
        "]\n",
        "wave_lengths = [\n",
        "  622.4815,\n",
        "  623.0258,\n",
        "  623.8391,\n",
        "  624.9150,\n",
        "  626.2495,\n",
        "  627.8369,\n",
        "  629.6622,\n",
        "  631.7233\n",
        "\n",
        "]\n",
        "plt.figure(figsize=(35, 5))\n",
        "result_22 = []\n",
        "\n",
        "for i, lims in enumerate(spectrum_lims):\n",
        "    result = fit(spectrum_data.sel(motor_coordinate=445000).sel(x=slice(spectrum_lims[i][0], spectrum_lims[i][1])))\n",
        "    result['v'] = 0\n",
        "    result['N'] = i+1\n",
        "    result['wave_length'] = wave_lengths[i]\n",
        "    result['long_x'] = spectrum_data.sel(motor_coordinate=445000).isel(x=int(result['x0'].values.tolist()))['long_x']\n",
        "    plt.subplot(2, len(spectrum_lims), i+1)\n",
        "    result['data'].plot(marker='.')\n",
        "    result['fit'].plot()\n",
        "    plt.title('N = {}'.format(i+1))\n",
        "    plt.xlabel('pixels')\n",
        "    plt.ylabel('intensity')\n",
        "    result_22.append(result)\n",
        "result_22 = xr.concat(result_22, dim='N')\n",
        "\n",
        "plt.figure(figsize=[35, 10])\n",
        "plt.subplot(2, i+1, i+2)\n",
        "plt.plot(result_22['x0'], result_22['wave_length'], marker='o')\n",
        "plt.title('x0 --- wave length')\n",
        "plt.xlabel('x0 (pixel)')\n",
        "plt.ylabel('wave length (nm)')"
      ],
      "execution_count": null,
      "outputs": []
    },
    {
      "cell_type": "markdown",
      "metadata": {
        "id": "vtsrmzYFk79a"
      },
      "source": [
        "# ピクセルを波長に変換"
      ]
    },
    {
      "cell_type": "code",
      "metadata": {
        "id": "JPWHizgSlBIS"
      },
      "source": [
        "wavelength = np.concatenate([result_00['wave_length'].values, result_11['wave_length'].values, result_22['wave_length'].values])\n",
        "longx = np.concatenate([result_00['long_x'].values, result_11['long_x'].values, result_22['long_x'].values])\n",
        "\n",
        "longx_to_wavelength_fun = np.poly1d(np.polyfit(longx, wavelength, 3))\n",
        "x = np.linspace(-6200, -500, 100)\n",
        "\n",
        "plt.plot(longx, wavelength, marker='x', linestyle='None')\n",
        "plt.plot(x, longx_to_wavelength_fun(x))\n",
        "plt.xlabel('long_x (pixel)')\n",
        "plt.ylabel('wavelength (nm)')"
      ],
      "execution_count": null,
      "outputs": []
    },
    {
      "cell_type": "code",
      "metadata": {
        "id": "l3W_h43ulYmq"
      },
      "source": [
        "array = []\n",
        "for a in spectrum_data:\n",
        "    d = a.assign_coords(wavelength=('x', longx_to_wavelength_fun(a['long_x'])))\n",
        "    array.append(d)\n",
        "spectrum_data = xr.concat(array, dim='motor_coordinate')\n",
        "\n",
        "plt.figure(figsize=(10, 6))\n",
        "plt.xlabel('wavelength (nm)')\n",
        "plt.ylabel('count (a.u.)')\n",
        "for s in spectrum_data:\n",
        "    plt.plot(s['wavelength'], s)"
      ],
      "execution_count": null,
      "outputs": []
    },
    {
      "cell_type": "markdown",
      "metadata": {
        "id": "F8-ZdW75lxGT"
      },
      "source": [
        "# 数値積分"
      ]
    },
    {
      "cell_type": "markdown",
      "metadata": {
        "id": "gtzDgXsgn31s"
      },
      "source": [
        "## (v' - v\") = (0 - 0)"
      ]
    },
    {
      "cell_type": "code",
      "metadata": {
        "id": "bJ8UzBW3lzRv"
      },
      "source": [
        "func465000 = interpolate.interp1d(spectrum_data.sel(motor_coordinate=465000)['wavelength'], spectrum_data.sel(motor_coordinate=465000), kind='linear')\n",
        "func460000 = interpolate.interp1d(spectrum_data.sel(motor_coordinate=460000)['wavelength'], spectrum_data.sel(motor_coordinate=460000), kind='linear')\n",
        "func455000 = interpolate.interp1d(spectrum_data.sel(motor_coordinate=455000)['wavelength'], spectrum_data.sel(motor_coordinate=455000), kind='linear')\n",
        "func450000 = interpolate.interp1d(spectrum_data.sel(motor_coordinate=450000)['wavelength'], spectrum_data.sel(motor_coordinate=450000), kind='linear')\n",
        "func445000 = interpolate.interp1d(spectrum_data.sel(motor_coordinate=445000)['wavelength'], spectrum_data.sel(motor_coordinate=445000), kind='linear')\n",
        "func440000 = interpolate.interp1d(spectrum_data.sel(motor_coordinate=440000)['wavelength'], spectrum_data.sel(motor_coordinate=440000), kind='linear')\n",
        "func435000 = interpolate.interp1d(spectrum_data.sel(motor_coordinate=435000)['wavelength'], spectrum_data.sel(motor_coordinate=435000), kind='linear')"
      ],
      "execution_count": null,
      "outputs": []
    },
    {
      "cell_type": "code",
      "metadata": {
        "id": "S2HEAlNgl3WL"
      },
      "source": [
        "plt.figure(figsize=(30, 5))\n",
        "data = spectrum_data.sel(motor_coordinate=465000)\n",
        "plt.plot(data['wavelength'], data)\n",
        "data = spectrum_data.sel(motor_coordinate=460000)\n",
        "plt.plot(data['wavelength'], data)\n",
        "wave_lengths = [\n",
        "  601.8299,\n",
        "  602.3757,\n",
        "  603.1909,\n",
        "  604.2716,\n",
        "  605.6091,\n",
        "  607.1996,\n",
        "  609.0374,\n",
        "#  610.9030\n",
        "]\n",
        "for w in wave_lengths:\n",
        "  plt.axvline(w)\n"
      ],
      "execution_count": null,
      "outputs": []
    },
    {
      "cell_type": "code",
      "metadata": {
        "id": "oEMgMiJJmlue"
      },
      "source": [
        "array_00 = []\n",
        "wave_lengths = [\n",
        "  601.8299,\n",
        "  602.3757,\n",
        "  603.1909,\n",
        "  604.2716,\n",
        "  605.6091,\n",
        "  607.1996,\n",
        "  609.0374,\n",
        "#  610.9030\n",
        "]\n",
        "args = [\n",
        "  {\"func\": func465000, \"start\": 601.73, \"end\": 601.94, \"N\": 1},\n",
        "  {\"func\": func465000, \"start\": 602.29, \"end\": 602.46, \"N\": 2},\n",
        "  {\"func\": func465000, \"start\": 603.07, \"end\": 603.275, \"N\": 3},\n",
        "  {\"func\": func465000, \"start\": 604.17, \"end\": 604.34, \"N\": 4},\n",
        "  {\"func\": func465000, \"start\": 605.50, \"end\": 605.80, \"N\": 5},\n",
        "  {\"func\": func460000, \"start\": 607.075, \"end\": 607.28, \"N\": 6},\n",
        "  {\"func\": func460000, \"start\": 608.92, \"end\": 609.2, \"N\": 7},\n",
        "]\n",
        "\n",
        "for arg in args:\n",
        "  array_00.append({\n",
        "    \"v\": 0,\n",
        "    \"N\": arg['N'],\n",
        "    \"wavelength\": wave_lengths[arg['N'] - 1],\n",
        "    \"intensity\": integrate.quad(arg['func'], arg['start'], arg['end'])\n",
        "  })\n",
        "array_00"
      ],
      "execution_count": null,
      "outputs": []
    },
    {
      "cell_type": "markdown",
      "metadata": {
        "id": "hsI1xf1Dn514"
      },
      "source": [
        "## (v' - v\") = (1 - 1)"
      ]
    },
    {
      "cell_type": "code",
      "metadata": {
        "id": "he9FBWfinw4b"
      },
      "source": [
        "plt.figure(figsize=(30, 5))\n",
        "data = spectrum_data.sel(motor_coordinate=455000)\n",
        "plt.plot(data['wavelength'], data)\n",
        "data = spectrum_data.sel(motor_coordinate=450000)\n",
        "plt.plot(data['wavelength'], data)\n",
        "wave_lengths = [\n",
        "  612.1787,\n",
        "  612.7246,\n",
        "  613.5395,\n",
        "  614.6186,\n",
        "  615.9565\n",
        "]\n",
        "for w in wave_lengths:\n",
        "  plt.axvline(w)"
      ],
      "execution_count": null,
      "outputs": []
    },
    {
      "cell_type": "code",
      "metadata": {
        "id": "VO358BnQoYgw"
      },
      "source": [
        "array_11 = []\n",
        "wave_lengths = [\n",
        "  612.1787,\n",
        "  612.7246,\n",
        "  613.5395,\n",
        "  614.6186,\n",
        "  615.9565\n",
        "]\n",
        "args = [\n",
        "  {\"func\": func450000, \"start\": 612.05, \"end\": 612.27, \"N\": 1},\n",
        "  {\"func\": func450000, \"start\": 612.6, \"end\": 612.85, \"N\": 2},\n",
        "  {\"func\": func450000, \"start\": 613.425, \"end\": 613.62, \"N\": 3},\n",
        "  {\"func\": func450000, \"start\": 614.52, \"end\": 614.75, \"N\": 4},\n",
        "  {\"func\": func450000, \"start\": 615.85, \"end\": 616.05, \"N\": 5},\n",
        "]\n",
        "\n",
        "for arg in args:\n",
        "  array_11.append({\n",
        "    \"v\": 1,\n",
        "    \"N\": arg['N'],\n",
        "    \"wavelength\": wave_lengths[arg['N'] - 1],\n",
        "    \"intensity\": integrate.quad(arg['func'], arg['start'], arg['end'])\n",
        "  })\n",
        "array_11"
      ],
      "execution_count": null,
      "outputs": []
    },
    {
      "cell_type": "markdown",
      "metadata": {
        "id": "dXRIwmQGp2bK"
      },
      "source": [
        "## (v' - v\") = (2 - 2)"
      ]
    },
    {
      "cell_type": "code",
      "metadata": {
        "colab": {
          "base_uri": "https://localhost:8080/",
          "height": 52
        },
        "id": "93jA_YSYpyna",
        "outputId": "e3837821-f434-428e-cd7f-46178b540d68"
      },
      "source": [
        "plt.figure(figsize=(30, 5))\n",
        "data = spectrum_data.sel(motor_coordinate=440000)\n",
        "plt.plot(data['wavelength'], data)\n",
        "data = spectrum_data.sel(motor_coordinate=435000)\n",
        "plt.plot(data['wavelength'], data)\n",
        "wave_lengths = [\n",
        "  622.4815,\n",
        "  623.0258,\n",
        "  623.8391,\n",
        "  624.9150,\n",
        "  626.2495,\n",
        "#  627.8369,\n",
        "#  629.6622,\n",
        "#  631.7233\n",
        "]\n",
        "for w in wave_lengths:\n",
        "  plt.axvline(w)\n"
      ],
      "execution_count": null,
      "outputs": [
        {
          "output_type": "display_data",
          "data": {
            "image/png": "[encoded data removed]",
            "text/plain": [
              "<Figure size 2160x360 with 1 Axes>"
            ]
          },
          "metadata": {
            "tags": [],
            "needs_background": "light"
          }
        }
      ]
    },
    {
      "cell_type": "code",
      "metadata": {
        "colab": {
          "base_uri": "https://localhost:8080/"
        },
        "id": "ClTkd3rrqVfw",
        "outputId": "93db7f46-b3d7-4a72-c4e3-da5a6b2781d2"
      },
      "source": [
        "array_22 = []\n",
        "wave_lengths = [\n",
        "  622.4815,\n",
        "  623.0258,\n",
        "  623.8391,\n",
        "  624.9150,\n",
        "  626.2495,\n",
        "#  627.8369,\n",
        "#  629.6622,\n",
        "#  631.7233\n",
        "]\n",
        "args = [\n",
        "  {\"func\": func440000, \"start\": 622.33, \"end\": 622.52, \"N\": 1},\n",
        "  {\"func\": func440000, \"start\": 622.86, \"end\": 623.05, \"N\": 2},\n",
        "  {\"func\": func440000, \"start\": 623.67, \"end\": 623.875, \"N\": 3},\n",
        "  {\"func\": func440000, \"start\": 624.77, \"end\": 624.93, \"N\": 4},\n",
        "  {\"func\": func440000, \"start\": 626.1, \"end\": 626.28, \"N\": 5},\n",
        "]\n",
        "\n",
        "for arg in args:\n",
        "  array_22.append({\n",
        "    \"v\": 2,\n",
        "    \"N\": arg['N'],\n",
        "    \"wavelength\": wave_lengths[arg['N'] - 1],\n",
        "    \"intensity\": integrate.quad(arg['func'], arg['start'], arg['end'])\n",
        "  })\n",
        "array_22"
      ],
      "execution_count": null,
      "outputs": [
        {
          "output_type": "stream",
          "text": [
            "/usr/local/lib/python3.6/dist-packages/ipykernel_launcher.py:25: IntegrationWarning: The maximum number of subdivisions (50) has been achieved.\n",
            "  If increasing the limit yields no improvement it is advised to analyze \n",
            "  the integrand in order to determine the difficulties.  If the position of a \n",
            "  local difficulty can be determined (singularity, discontinuity) one will \n",
            "  probably gain from splitting up the interval and calling the integrator \n",
            "  on the subranges.  Perhaps a special-purpose integrator should be used.\n"
          ],
          "name": "stderr"
        },
        {
          "output_type": "execute_result",
          "data": {
            "text/plain": [
              "[{'N': 1,\n",
              "  'intensity': (136015.44881131506, 4.9187363607634325),\n",
              "  'v': 2,\n",
              "  'wavelength': 622.4815},\n",
              " {'N': 2,\n",
              "  'intensity': (33196.78688983189, 0.8871012551317108),\n",
              "  'v': 2,\n",
              "  'wavelength': 623.0258},\n",
              " {'N': 3,\n",
              "  'intensity': (44305.85463274163, 1.2522203640037333),\n",
              "  'v': 2,\n",
              "  'wavelength': 623.8391},\n",
              " {'N': 4,\n",
              "  'intensity': (8851.059742525926, 2.0278981068638102),\n",
              "  'v': 2,\n",
              "  'wavelength': 624.915},\n",
              " {'N': 5,\n",
              "  'intensity': (7188.620728462394, 0.10313532087002386),\n",
              "  'v': 2,\n",
              "  'wavelength': 626.2495}]"
            ]
          },
          "metadata": {
            "tags": []
          },
          "execution_count": 22
        }
      ]
    },
    {
      "cell_type": "markdown",
      "metadata": {
        "id": "HTUHppEqTW9G"
      },
      "source": [
        "# 上準位回転・振動状態数分布\n",
        "$$n_{dv'N'}=\\frac{I^{dv'N'}_{av\"N\"}\\lambda^{dv'N'}_{av\"N\"}}{hc}\\frac{1}{A^{dv'N'}_{av\"N\"}}$$"
      ]
    },
    {
      "cell_type": "markdown",
      "metadata": {
        "id": "ZxiJOm2XDkZH"
      },
      "source": [
        "## 自然発光係数 A"
      ]
    },
    {
      "cell_type": "code",
      "metadata": {
        "id": "dCb0aE28Te0M"
      },
      "source": [
        "A_array = [2.4077e7, 2.0655e7, 1.7377e7, 1.4317e7]\n",
        "# 自然放出係数\n",
        "def A(vd, Nd):\n",
        "  return A_array[vd] * (2*Nd+1) / 2\n",
        "\n"
      ],
      "execution_count": null,
      "outputs": []
    },
    {
      "cell_type": "markdown",
      "metadata": {
        "id": "wEj02COTDvuz"
      },
      "source": [
        "## 上準位分布 $n_{dv'N'}$"
      ]
    },
    {
      "cell_type": "code",
      "metadata": {
        "id": "Xao_6idPDoZ5"
      },
      "source": [
        "# プランク定数[ev/s]\n",
        "planck_constant = 4.13567e-15\n",
        "# 光速[m/s]\n",
        "light_speed = 299792458\n",
        "for d in array_00:\n",
        "  d['nd'] = d['intensity'][0] * d['wavelength'] / planck_constant / light_speed / A(d['v'], d['N']) \n",
        "for d in array_11:\n",
        "  d['nd'] = d['intensity'][0] * d['wavelength'] / planck_constant / light_speed / A(d['v'], d['N']) \n",
        "for d in array_22:\n",
        "  d['nd'] = d['intensity'][0] * d['wavelength'] / planck_constant / light_speed / A(d['v'], d['N'])"
      ],
      "execution_count": null,
      "outputs": []
    },
    {
      "cell_type": "code",
      "metadata": {
        "colab": {
          "base_uri": "https://localhost:8080/"
        },
        "id": "XPHpn6mn3NrC",
        "outputId": "30af3621-7a29-4d9e-cca7-8ca9d454b70a"
      },
      "source": [
        "result = np.zeros((10, 3))\n",
        "for i in range(len(array_00)):\n",
        "  result[i][0] = array_00[i]['nd']\n",
        "for i in range(len(array_11)):\n",
        "  result[i][1] = array_11[i]['nd']\n",
        "for i in range(len(array_22)):\n",
        "  result[i][2] = array_22[i]['nd']\n",
        "print('発光上準位の振動・回転状態占有数(相対値)')\n",
        "result\n"
      ],
      "execution_count": null,
      "outputs": [
        {
          "output_type": "stream",
          "text": [
            "発光上準位の振動・回転状態占有数(相対値)\n"
          ],
          "name": "stdout"
        },
        {
          "output_type": "execute_result",
          "data": {
            "text/plain": [
              "array([[5656244.66955995, 7127775.26319211, 2619883.90648468],\n",
              "       [ 884468.57554993, 1629359.02167514,  383990.68721919],\n",
              "       [1021436.08614626, 1240873.11704829,  366542.45440195],\n",
              "       [ 144895.01277891,  188944.00930458,   57050.87715304],\n",
              "       [ 176622.60957735,  142956.63147051,   37991.71440719],\n",
              "       [  68006.72955478,       0.        ,       0.        ],\n",
              "       [ 129603.25524108,       0.        ,       0.        ],\n",
              "       [      0.        ,       0.        ,       0.        ],\n",
              "       [      0.        ,       0.        ,       0.        ],\n",
              "       [      0.        ,       0.        ,       0.        ]])"
            ]
          },
          "metadata": {
            "tags": []
          },
          "execution_count": 25
        }
      ]
    },
    {
      "cell_type": "markdown",
      "metadata": {
        "id": "KoO0simlCKyH"
      },
      "source": [
        "# 上準位回転温度 $T^{dv'}_{rot}$\n"
      ]
    },
    {
      "cell_type": "markdown",
      "metadata": {
        "id": "lkdpiYqVEjCG"
      },
      "source": [
        "## 上準位ボルツマンフィッティング"
      ]
    },
    {
      "cell_type": "code",
      "metadata": {
        "id": "g-VT2C5pr4F1"
      },
      "source": [
        "# d状態の回転エネルギー\n",
        "def e_rot(v, N):\n",
        "  return ((30.364-1.545*(v+1/2))*N*(N+1)-0.0191*N*(N+1)*N*(N+1))*1.23984/1e4\n",
        "\n",
        "# 核スピンの縮退度(核スピンの統計重率)\n",
        "def g_as(N):\n",
        "  return (N % 2) * 2 + 1\n",
        "\n",
        "# 回転の統計重率(もしかしたら二乗じゃ無いかも)\n",
        "def g_N(N):\n",
        "  return (2*N+1)*(2*N+1)"
      ],
      "execution_count": null,
      "outputs": []
    },
    {
      "cell_type": "code",
      "metadata": {
        "colab": {
          "base_uri": "https://localhost:8080/",
          "height": 530
        },
        "id": "yt-aEu5msCPx",
        "outputId": "15069146-c18a-4b2f-e82e-bf886d757951"
      },
      "source": [
        "plt.figure(figsize=[10, 8])\n",
        "plt.rcParams['font.size'] = 20\n",
        "\n",
        "for d in array_00:\n",
        "  d['population'] = d['intensity'][0] * d['wavelength'] / g_N(d['N']) / g_as(d['N'])\n",
        "  d['energy'] = e_rot(d['v'], d['N'])\n",
        "for d in array_11:\n",
        "  d['population'] = d['intensity'][0] * d['wavelength'] / g_N(d['N']) / g_as(d['N'])\n",
        "  d['energy'] = e_rot(d['v'], d['N'])\n",
        "for d in array_22:\n",
        "  d['population'] = d['intensity'][0] * d['wavelength'] / g_N(d['N']) / g_as(d['N'])\n",
        "  d['energy'] = e_rot(d['v'], d['N'])\n",
        "\n",
        "energy_00 = np.fromiter(map(lambda Q: Q['energy'], array_00), dtype=np.float)\n",
        "population_00 = np.fromiter(map(lambda Q: Q['population'], array_00), dtype=np.float)\n",
        "energy_11 = np.fromiter(map(lambda Q: Q['energy'], array_11), dtype=np.float)\n",
        "population_11 = np.fromiter(map(lambda Q: Q['population'], array_11), dtype=np.float)\n",
        "energy_22 = np.fromiter(map(lambda Q: Q['energy'], array_22), dtype=np.float)\n",
        "population_22 = np.fromiter(map(lambda Q: Q['population'], array_22), dtype=np.float)\n",
        "\n",
        "plt.plot(energy_00, population_00, marker='x', label=\"$0-0$\")\n",
        "plt.plot(energy_11, population_11, marker='x', label=\"$1-1$\")\n",
        "plt.plot(energy_22, population_22, marker='x', label=\"$2-2$\")\n",
        "\n",
        "plt.yscale('log')\n",
        "\n",
        "plt.xlabel('Rotational Energy (eV)')\n",
        "plt.ylabel(r\"$\\frac{I^{dv'N'}_{av''N''}\\lambda^{dv'N'}_{av''N''}}{(2N'+1)^2g^{N'}_{as}}$ (a.u.)\")\n",
        "plt.legend(bbox_to_anchor=(1, 1), loc='upper right', borderaxespad=0, fontsize=18)\n",
        "\n",
        "#plt.savefig(data_path, bbox_inches='tight')"
      ],
      "execution_count": null,
      "outputs": [
        {
          "output_type": "execute_result",
          "data": {
            "text/plain": [
              "<matplotlib.legend.Legend at 0x7f75c8d6d5c0>"
            ]
          },
          "metadata": {
            "tags": []
          },
          "execution_count": 27
        },
        {
          "output_type": "display_data",
          "data": {
            "image/png": "[encoded data removed]",
            "text/plain": [
              "<Figure size 720x576 with 1 Axes>"
            ]
          },
          "metadata": {
            "tags": [],
            "needs_background": "light"
          }
        }
      ]
    },
    {
      "cell_type": "markdown",
      "metadata": {
        "id": "xJLX9g8lE61c"
      },
      "source": [
        "## 回転温度 $T^{dv'}_{rot}$"
      ]
    },
    {
      "cell_type": "code",
      "metadata": {
        "id": "N3MZVzYLskj8",
        "colab": {
          "base_uri": "https://localhost:8080/",
          "height": 321
        },
        "outputId": "66edab63-a6e2-4541-bd64-8a5ebf2f7a81"
      },
      "source": [
        "plt.plot(energy_00, population_00, marker='x', label=\"$0-0$\")\n",
        "plt.plot(energy_11, population_11, marker='x', label=\"$1-1$\")\n",
        "plt.plot(energy_22, population_22, marker='x', label=\"$2-2$\")\n",
        "\n",
        "plt.yscale('log')\n",
        "\n",
        "plt.xlabel('Rotational Energy (eV)')\n",
        "plt.ylabel(r\"$\\frac{I^{dv'N'}_{av''N''}\\lambda^{dv'N'}_{av''N''}}{(2N'+1)^2g^{N'}_{as}}$ (a.u.)\")\n",
        "plt.ylim(1e4, 1e7)\n",
        "\n",
        "T_d_rot = 500 # 上準位の回転温度\n",
        "const = 6 # 位置合わせのための定数\n",
        "kb = 8.6171e-5 # [eV K^-1] ボルツマン定数\n",
        "\n",
        "fit_population_00 = []\n",
        "for e in energy_00:\n",
        "  fit_population_00.append(10**(const - e / kb / T_d_rot))\n",
        "\n",
        "plt.plot(energy_00, fit_population_00, label=\"$T^{dv'}_{rot}=500K$\")\n",
        "\n",
        "plt.legend(bbox_to_anchor=(1, 1), loc='upper right', borderaxespad=0, fontsize=18)\n",
        "\n",
        "print('上準位回転温度: ', T_d_rot, 'K')\n",
        "#plt.savefig(data_path, bbox_inches='tight')"
      ],
      "execution_count": null,
      "outputs": [
        {
          "output_type": "stream",
          "text": [
            "上準位回転温度:  500 K\n"
          ],
          "name": "stdout"
        },
        {
          "output_type": "display_data",
          "data": {
            "image/png": "[encoded data removed]",
            "text/plain": [
              "<Figure size 432x288 with 1 Axes>"
            ]
          },
          "metadata": {
            "tags": [],
            "needs_background": "light"
          }
        }
      ]
    },
    {
      "cell_type": "markdown",
      "metadata": {
        "id": "VE7PKxgABH7o"
      },
      "source": [
        "# 基底準位回転温度 $T^{Xv}_{rot}$\n",
        "$$T^{Xv}_{rot} = \\frac{B^{Xv}}{B^{dv'}}T^{dv'}_{rot}$$\n"
      ]
    },
    {
      "cell_type": "code",
      "metadata": {
        "id": "oTWAtLvICTVJ"
      },
      "source": [
        "# 石原さん修論より\n",
        "\n",
        "Be = [60.853, 30.364, 1.671] # X, d, a準位のBe\n",
        "ae = [3.062, 1.545, 1.671] # X, d, a準位のαe\n",
        "De = [0.0471, 0.0191, 0.0216] # X, d, a準位のDe\n",
        "we = [4401.21, 2371.57, 2664.83] # X, d, a準位のwe\n",
        "wx = [121.33, 66.27, 71.65] # X, d, a準位のwx\n",
        "# Te = 18 # 電子温度[ev]　ユンさんの研究内容より\n",
        "Te = 5 / kb # 電子温度[K]　絶対違うけど、とりあえず\n",
        "\n",
        "# 基底準位の回転定数\n",
        "def BXv(v):\n",
        "  return Be[0] - ae[0]*(v+0.5)\n",
        "\n",
        "# 上準位の回転定数\n",
        "def Bdv(v):\n",
        "  return Be[1] - ae[1]*(v+0.5)\n",
        "\n",
        "# 基底準位の回転温度\n",
        "T_X_rot = [BXv(0) / Bdv(0) * T_d_rot, BXv(1) / Bdv(1) * T_d_rot, BXv(2) / Bdv(2) * T_d_rot]\n",
        "\n",
        "# 基底準位の回転エネルギー\n",
        "def E_X_rot(v, N):\n",
        "  return (BXv(v)*N*(N+1) - De[0]*N*(N+1)*N*(N+1))*1.23984/1e4\n",
        "\n",
        "# 基底準位の振動エネルギー\n",
        "def E_X_vib(v):\n",
        "  return (we[0]*(v+0.5) - wx[0]*(v+0.5)*(v+0.5))*1.23984/1e4\n",
        "\n",
        "# 上準位の振動エネルギー\n",
        "def E_d_vib(v):\n",
        "  return (we[1]*(v+0.5) - wx[1]*(v+0.5)*(v+0.5))*1.23984/1e4"
      ],
      "execution_count": null,
      "outputs": []
    },
    {
      "cell_type": "code",
      "metadata": {
        "colab": {
          "base_uri": "https://localhost:8080/"
        },
        "id": "J3wGXg7RBXhm",
        "outputId": "d12bd9f7-c2de-41d2-ae46-835848868ee1"
      },
      "source": [
        "print('基底準位の回転温度[v]')\n",
        "print(T_X_rot)\n",
        "print(Te)"
      ],
      "execution_count": null,
      "outputs": [
        {
          "output_type": "stream",
          "text": [
            "基底準位の回転温度[v]\n",
            "[1002.3486474156431, 1002.9771985809282, 1003.6790370356395]\n",
            "58024.16126074897\n"
          ],
          "name": "stdout"
        }
      ]
    },
    {
      "cell_type": "markdown",
      "metadata": {
        "id": "orbhckuf2fAz"
      },
      "source": [
        "# 基底状態振動温度$T^{Xv}_{biv}$"
      ]
    },
    {
      "cell_type": "markdown",
      "metadata": {
        "id": "W4eb8Egj2tSm"
      },
      "source": [
        "石原さん修論より<br>\n",
        "- 基底準位はボルツマン分布に従うと仮定する\n",
        "$$\\frac{n_{XvN}}{(2N+1)g^N_{as}}=n_X\\exp\\left(-\\frac{E^{Xv}_{rot}(N)}{k_BT^{Xv}_{rot}}\\right)exp\\left(-\\frac{E^{X}_{vib}(v)}{k_BT^{X}_{vib}}\\right)$$\n",
        "- コロナモデル\n",
        "$$n_e\\sum_{v, N}[n_{XvN}R^{dv'N'}_{XvN}]= n_{dv'N'}\\sum_{v\"N\"}A^{dv'N'}_{av\"N\"}$$\n",
        "を、0<v≦2でN',Nについて和をとると(要確認)\n",
        "\n",
        "\\begin{align}\n",
        "n_{dv'}\\sum_{v\"=0}^2A^{dv'}_{av\"}=n_e\\sum_{v=0}^2[n_{Xv}R^{dv'}_{Xv}]\\notag \\\\\\propto\\sum_{v=0}^2\\left[R^{dv'}_{Xv}\\exp\\left(-\\frac{E^X_{vib}(v)}{k_BT^X_{vib}}\\right)\\right]\\tag{#}\n",
        "\\end{align}"
      ]
    },
    {
      "cell_type": "markdown",
      "metadata": {
        "id": "pkQWxoEQ6XI7"
      },
      "source": [
        "上式において\n",
        "$$R^{dv'}_{Xv}=q^{dv'}_{Xv}<\\sigma^{FC}_{v'\\leftarrow v}v_e>$$\n",
        "(要確認! 次式から計算できるのかどうか)\n",
        "$$R^{dv'N'}_{XvN}=q^{dv'}_{Xv}<\\sigma^{FC}_{v'\\leftarrow v}v_e>a^{1N'}_{0N}\\delta^{g^{N'}_{as}}_{g^N_{as}}$$"
      ]
    },
    {
      "cell_type": "markdown",
      "metadata": {
        "id": "zr-wxubYfEpW"
      },
      "source": [
        "## 電子衝突励起係数 R"
      ]
    },
    {
      "cell_type": "code",
      "metadata": {
        "id": "Ew58hW3ACF95"
      },
      "source": [
        "# Franck-Condin因子\n",
        "franck_condon = np.loadtxt('/content/drive/MyDrive/研究室/myLeprecon/franck_condon_factor.txt')\n",
        "# 振動励起の電子衝突断面積(の多分相対値)\n",
        "def ccs(vX, vd):\n",
        "  return np.exp(-((E_d_vib(vd)-E_d_vib(0))-(E_X_vib(vX) - E_X_vib(0)))/ kb / Te)\n",
        "\n",
        "# 電子速度で平均化した部分断面積　石原さんの修論より\n",
        "Qr = np.array([0.76,0.122,0.1,0.014])\n",
        "# 回転構造の分岐比\n",
        "def branch_ratio(NX, Nd):\n",
        "  rtp_value = 0\n",
        "  for r in range(1, 5, 1):\n",
        "    rtp_value += Qr[r-1]*(2*Nd+1)*(wigner_3j(Nd, r, NX, 1, -1, 0))**2\n",
        "  return rtp_value\n",
        "\n",
        "# 禁止遷移は励起係数は0\n",
        "def kronecker_delta(NX, Nd):\n",
        "  if(NX % 2 == Nd % 2):\n",
        "    return 1\n",
        "  else:\n",
        "    return 0\n",
        "\n",
        "# 電子衝突励起係数\n",
        "def R(vX, NX, vd, Nd):\n",
        "  return franck_condon[vX][vd] * ccs(vX, vd) * branch_ratio(NX, Nd) * kronecker_delta(NX, Nd)\n",
        "def R(vX, vd):\n",
        "  return franck_condon[vX][vd] * ccs(vX, vd)"
      ],
      "execution_count": null,
      "outputs": []
    },
    {
      "cell_type": "markdown",
      "metadata": {
        "id": "Sa25v_2hfPKJ"
      },
      "source": [
        "## フィッティング"
      ]
    },
    {
      "cell_type": "code",
      "metadata": {
        "colab": {
          "base_uri": "https://localhost:8080/"
        },
        "id": "EDH5uQlLRa2o",
        "outputId": "5e91139e-ac75-49f7-e26c-326cbc802435"
      },
      "source": [
        "# (#)式の左辺\n",
        "A_sum = 0\n",
        "n_sum = np.array([0, 0, 0])\n",
        "for item in array_00:\n",
        "  A_sum += A(0, item['N'])\n",
        "  n_sum[0] += item['nd']\n",
        "for item in array_11:\n",
        "  A_sum += A(1, item['N'])\n",
        "  n_sum[1] += item['nd']\n",
        "for item in array_22:\n",
        "  A_sum += A(1, item['N'])\n",
        "  n_sum[2] += item['nd']\n",
        "\n",
        "left_formula = np.fromiter(map(lambda a: a * A_sum, n_sum), dtype=np.float)\n",
        "\n",
        "# 右辺を計算する\n",
        "def right_formula(T_X_vib, _vds):\n",
        "  result = np.zeros(3)\n",
        "  tmp = np.zeros((3, 3))\n",
        "  for vd in range(0, 3, 1):\n",
        "    for vX in range(0, 3, 1):\n",
        "      result[vd] += R(vX, vd) * math.exp(-E_X_vib(vX)/kb/T_X_vib)\n",
        "      tmp[vX][vd] = R(vX, vd) * math.exp(-E_X_vib(vX)/kb/T_X_vib)\n",
        "  print(tmp.T)\n",
        "  return result\n",
        "\n",
        "def fitting_func(vds, constant, T_X_vib):\n",
        "  return left_formula - constant * right_formula(T_X_vib, vds)\n",
        "\n",
        "vds = np.array([0, 1, 2])\n",
        "#popt, pcov = curve_fit(fitting_func, vd, np.zeros(3), p0=[1000, 1e-270])\n",
        "a = right_formula(1000, vds)\n",
        "print(a)\n",
        "b = right_formula(100, vds)\n",
        "print(b)"
      ],
      "execution_count": null,
      "outputs": [
        {
          "output_type": "stream",
          "text": [
            "[[4.40769751e-03 3.60871991e-05 1.63744803e-07]\n",
            " [7.11689954e-03 1.89514471e-05 1.38939969e-10]\n",
            " [7.12956142e-03 3.12793816e-06 3.65956682e-08]]\n",
            "[0.00444395 0.00713585 0.00713273]\n",
            "[[2.74784451e-15 9.22998980e-41 3.97886453e-65]\n",
            " [4.43681384e-15 4.84719424e-41 3.37612739e-68]\n",
            " [4.44470750e-15 8.00029872e-42 8.89244747e-66]]\n",
            "[2.74784451e-15 4.43681384e-15 4.44470750e-15]\n"
          ],
          "name": "stdout"
        }
      ]
    },
    {
      "cell_type": "markdown",
      "metadata": {
        "id": "3N4ZxuehjYpM"
      },
      "source": [
        "核融合境界〜の(5)より\n",
        "$$\\sum_{N'}\\left(\\sum_{N\"}\\frac{I^{dv'N'}_{av\"N\"}\\lambda^{dv'N'}_{av\"N\"}}{hc}\\right) = \\frac{A^{dv'}_{av\"}}{\\sum_{v\"}A^{dv'}_{av\"}} \\times n_e\\sum_v\\left\\{R^{dv'}_{Xv}N_{X0}\\exp\\left[-\\frac{E^X_{vib}(v)}{k_BT^X_{vib}}\\right]\\right\\}$$"
      ]
    },
    {
      "cell_type": "code",
      "metadata": {
        "colab": {
          "base_uri": "https://localhost:8080/"
        },
        "id": "eMVfuLqpjXfQ",
        "outputId": "24443b6b-75ff-4168-cec3-5db1e0a842cf"
      },
      "source": [
        "left_formula = np.zeros(3)\n",
        "for Nd in range(1, 8):\n",
        "  for Na in range(1, 8):\n",
        "    if not Nd != Na:\n",
        "      continue # 上準位と下準位でNは変わらない\n",
        "    left_formula[0] += array_00[Na-1]['intensity'][0] * array_00[Na-1]['wavelength']\n",
        "for Nd in range(1, 6):\n",
        "  for Na in range(1, 6):\n",
        "    if not Nd != Na:\n",
        "      continue # 上準位と下準位でNは変わらない\n",
        "    left_formula[1] += array_11[Na-1]['intensity'][0] * array_11[Na-1]['wavelength']\n",
        "for Nd in range(1, 6):\n",
        "  for Na in range(1, 6):\n",
        "    if not Nd != Na:\n",
        "      continue # 上準位と下準位でNは変わらない\n",
        "    left_formula[2] += array_22[Na-1]['intensity'][0] * array_22[Na-1]['wavelength']\n",
        "left_formula"
      ],
      "execution_count": null,
      "outputs": [
        {
          "output_type": "execute_result",
          "data": {
            "text/plain": [
              "array([3.10005371e+09, 2.12499238e+09, 5.72089240e+08])"
            ]
          },
          "metadata": {
            "tags": []
          },
          "execution_count": 33
        }
      ]
    },
    {
      "cell_type": "code",
      "metadata": {
        "colab": {
          "base_uri": "https://localhost:8080/",
          "height": 349
        },
        "id": "HnVstQkXn_GC",
        "outputId": "eb1b42f4-4a15-404b-e333-b00e00d84de7"
      },
      "source": [
        "# v'=v\"なので右辺前半は常に1になる？？\n",
        "def right_formula_func(T_X_vib, _vds):\n",
        "  right_formula = np.zeros(3)\n",
        "  for vX in range(0, 3):\n",
        "    right_formula[0] += R(vX, 0)*math.exp(-E_X_vib(vX)/kb/T_X_vib)\n",
        "  for vX in range(0, 3):\n",
        "    right_formula[1] += R(vX, 1)*math.exp(-E_X_vib(vX)/kb/T_X_vib)\n",
        "  for vX in range(0, 3):\n",
        "    right_formula[2] += R(vX, 2)*math.exp(-E_X_vib(vX)/kb/T_X_vib)\n",
        "  return right_formula\n",
        "\n",
        "vds = np.array([0, 1, 2])\n",
        "\n",
        "def fitting_func(vds, T_X_vib, constant):\n",
        "  return constant * right_formula_func(T_X_vib, vds) - left_formula\n",
        "plt.plot(vds, fitting_func(vds, 2687.12124, 4.61271711e10), marker='x') # これを[0, 0, 0]にするようなfitting_funcの第二、第三引数を求める\n",
        "plt.xlabel(\"$v'$\")\n",
        "plt.ylabel('right side - left side [a.u.]')\n",
        "popt, pcov = curve_fit(fitting_func, vds, np.zeros(3), p0=[2000, 1e11])\n",
        "print('[T_X_vib, constant] =')\n",
        "print(popt)\n",
        "T_X_vib = popt[0]"
      ],
      "execution_count": null,
      "outputs": [
        {
          "output_type": "stream",
          "text": [
            "[T_X_vib, constant] =\n",
            "[1.79420446e+04 6.66531057e+09]\n"
          ],
          "name": "stdout"
        },
        {
          "output_type": "display_data",
          "data": {
            "image/png": "[encoded data removed]",
            "text/plain": [
              "<Figure size 432x288 with 1 Axes>"
            ]
          },
          "metadata": {
            "tags": [],
            "needs_background": "light"
          }
        }
      ]
    },
    {
      "cell_type": "code",
      "metadata": {
        "colab": {
          "base_uri": "https://localhost:8080/",
          "height": 307
        },
        "id": "N3m709Lj1fKG",
        "outputId": "d1392819-f405-4db0-e1b5-6e5ffae0df65"
      },
      "source": [
        "plt.plot(vds, left_formula, label='left')\n",
        "plt.plot(vds, popt[1] * right_formula_func(popt[0], vds), label='right')\n",
        "plt.legend(bbox_to_anchor=(1, 1), loc='upper right', borderaxespad=0, fontsize=18)\n"
      ],
      "execution_count": null,
      "outputs": [
        {
          "output_type": "execute_result",
          "data": {
            "text/plain": [
              "<matplotlib.legend.Legend at 0x7f75ccef9780>"
            ]
          },
          "metadata": {
            "tags": []
          },
          "execution_count": 35
        },
        {
          "output_type": "display_data",
          "data": {
            "image/png": "[encoded data removed]",
            "text/plain": [
              "<Figure size 432x288 with 1 Axes>"
            ]
          },
          "metadata": {
            "tags": [],
            "needs_background": "light"
          }
        }
      ]
    },
    {
      "cell_type": "markdown",
      "metadata": {
        "id": "NK09lYT8jkU1"
      },
      "source": [
        "# 基底準位占有数分布\n",
        "基底準位はボルツマン分布に従うと仮定する\n",
        "$$\\frac{n_XvN}{(2N+1)g^N_{as}}=exp(-\\frac{E^{Xv}_{rot}(N)}{k_BT^{Xv}_{rot}})exp(-\\frac{E^{X}_{vib}(v)}{k_BT^{X}_{vib}})$$"
      ]
    },
    {
      "cell_type": "code",
      "metadata": {
        "colab": {
          "base_uri": "https://localhost:8080/",
          "height": 452
        },
        "id": "9tDHWnJA3bJv",
        "outputId": "9ebfbec6-0c93-4e42-f328-f2d2400fd4a2"
      },
      "source": [
        "nX = np.zeros((3, 14))\n",
        "left = np.zeros((3, 14))\n",
        "for vX in range(0, 3):\n",
        "  E_array = np.zeros(14)\n",
        "  for NX in range(1, 15):\n",
        "#    nX[vX][NX-1] = (2*NX+1)*g_as(NX)*math.exp(-E_X_rot(vX, NX)/kb/T_X_rot[vX])*math.exp(-E_X_vib(vX)/kb/T_X_vib[vX])\n",
        "    nX[vX][NX-1] = (2*NX+1)*g_as(NX)*math.exp(-E_X_rot(vX, NX)/kb/T_X_rot[vX])*math.exp(-E_X_vib(vX)/kb/T_X_vib)\n",
        "    left[vX][NX-1] = math.exp(-E_X_rot(vX, NX)/kb/T_X_rot[vX])*math.exp(-E_X_vib(vX)/kb/T_X_vib)\n",
        "    E_array[NX-1] = E_X_rot(vX, NX)\n",
        "  print(E_array)\n",
        "  plt.plot(E_array, left[vX], marker='x', label=(\"v = %i\" % vX))\n",
        "nX\n",
        "plt.yscale('log')\n",
        "plt.xlabel(r\"$E^{Xv}_{rot}$ [eV]\")\n",
        "plt.ylabel(r\"$\\frac{n_{XvN}}{(2N+1)g^N_{as}}$ [a.u.]\")\n",
        "plt.legend(bbox_to_anchor=(1, 1), loc='upper right', borderaxespad=0, fontsize=18)\n",
        "\n",
        "plt.savefig(data_path, bbox_inches='tight')\n"
      ],
      "execution_count": null,
      "outputs": [
        {
          "output_type": "stream",
          "text": [
            "[0.0146866  0.04391965 0.08741884 0.14476372 0.21539368 0.29860798\n",
            " 0.39356568 0.49928575 0.61464696 0.73838795 0.86910721 1.00526307\n",
            " 1.1451737  1.28701715]\n",
            "[0.01392732 0.04164181 0.08286317 0.13717094 0.20400451 0.28266314\n",
            " 0.3723059  0.47195174 0.58047945 0.69662766 0.81899486 0.94603938\n",
            " 1.0760794  1.20729296]\n",
            "[0.01316804 0.03936398 0.0783075  0.12957816 0.19261534 0.2667183\n",
            " 0.35104612 0.44461773 0.54631194 0.65486737 0.76888251 0.8868157\n",
            " 1.0069851  1.12756877]\n"
          ],
          "name": "stdout"
        },
        {
          "output_type": "display_data",
          "data": {
            "image/png": "[encoded data removed]",
            "text/plain": [
              "<Figure size 432x288 with 1 Axes>"
            ]
          },
          "metadata": {
            "tags": [],
            "needs_background": "light"
          }
        }
      ]
    }
  ]
}