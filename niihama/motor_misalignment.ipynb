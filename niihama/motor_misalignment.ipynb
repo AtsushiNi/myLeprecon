{
  "nbformat": 4,
  "nbformat_minor": 0,
  "metadata": {
    "colab": {
      "name": "motor-misalignment2.ipynb",
      "provenance": [],
      "collapsed_sections": [],
      "toc_visible": true,
      "mount_file_id": "1mltv9rreO_5bDAPCpmJ7maYB1Ufi1tTl",
      "authorship_tag": "ABX9TyN/VsCtBiQHc794/GMxJ8jU",
      "include_colab_link": true
    },
    "kernelspec": {
      "name": "python3",
      "display_name": "Python 3"
    }
  },
  "cells": [
    {
      "cell_type": "markdown",
      "metadata": {
        "id": "view-in-github",
        "colab_type": "text"
      },
      "source": [
        "<a href=\"https://colab.research.google.com/github/AtsushiNi/myLeprecon/blob/master/niihama/motor_misalignment.ipynb\" target=\"_parent\"><img src=\"https://colab.research.google.com/assets/colab-badge.svg\" alt=\"Open In Colab\"/></a>"
      ]
    },
    {
      "cell_type": "markdown",
      "metadata": {
        "id": "MtakQN2R5O58"
      },
      "source": [
        "## モーターの精度を信用しずらかったので、計測してみた\n",
        "水素-ネオン-水素-ネオンの順でスペクトルを計測<br>\n",
        "複数回の計測で値がズレていないかを見てみた"
      ]
    },
    {
      "cell_type": "code",
      "metadata": {
        "id": "t-NOFAPo1hDC",
        "outputId": "cb077745-b71a-4b81-9f84-3ea795607c86",
        "colab": {
          "base_uri": "https://localhost:8080/",
          "height": 82
        }
      },
      "source": [
        "%pylab inline\n",
        "!pip install netcdf4\n",
        "\n",
        "import os\n",
        "from os.path import join\n",
        "import xarray as xr\n",
        "import numpy as np\n",
        "import pandas as pd\n",
        "from pandas import read_csv"
      ],
      "execution_count": 17,
      "outputs": [
        {
          "output_type": "stream",
          "text": [
            "Populating the interactive namespace from numpy and matplotlib\n",
            "Requirement already satisfied: netcdf4 in /usr/local/lib/python3.6/dist-packages (1.5.4)\n",
            "Requirement already satisfied: numpy>=1.9 in /usr/local/lib/python3.6/dist-packages (from netcdf4) (1.18.5)\n",
            "Requirement already satisfied: cftime in /usr/local/lib/python3.6/dist-packages (from netcdf4) (1.2.1)\n"
          ],
          "name": "stdout"
        }
      ]
    },
    {
      "cell_type": "code",
      "metadata": {
        "id": "Oaf1Cy1p3zXb"
      },
      "source": [
        "data_path = join('drive', 'My Drive', '研究室', 'MyLeprecon', 'SpectrometerData', '20201020')\n",
        "\n",
        "# ファイル名のリスト\n",
        "H_1 = [f'H-1_{430000 + 5000*i}.nc' for i in range(10)]\n",
        "H_3 = [f'H-3_{430000 + 5000*i}.nc' for i in range(10)]\n",
        "Ne_2 = [f'Ne-2_{430000 + 5000*i}.nc' for i in range(10)]\n",
        "Ne_4 = [f'Ne-4_{430000 + 5000*i}.nc' for i in range(10)]\n",
        "\n",
        "# overlapの関数(他のデータを元にしているので甘い)\n",
        "index = np.array([415000,460000, 490000, 550000, 600000])\n",
        "overlap = np.array([1040, 1000, 978, 954, 930])\n",
        "overlap_func = np.poly1d(np.polyfit(index, overlap, 2))\n",
        "\n",
        "x_range = np.arange(2048)\n",
        "overlap = 0\n",
        "for i,fp in enumerate(H_1):\n",
        "    c = 'k'\n",
        "    if i%2: c = 'C1'\n",
        "    image_data = xr.open_dataset(join(data_path,fp)).to_array()[0]\n",
        "    \n",
        "    overlap = overlap + overlap_func(430000 + 5000 * i)\n",
        "    x = x_range + overlap\n",
        "    y = image_data.sum(axis=0)\n",
        "    plot(y / 1e2, x, f'{c}')\n",
        "\n",
        "grid()\n",
        "yscale('log')\n",
        "xlabel('pixel')\n",
        "fig=gcf()\n",
        "fig.set_facecolor('w')\n",
        "fig.set_size_inches([20,100])\n"
      ],
      "execution_count": null,
      "outputs": []
    },
    {
      "cell_type": "code",
      "metadata": {
        "id": "TQqmva4f7Ju0",
        "outputId": "b15ed464-637d-42bd-9ca0-c3082786099c",
        "colab": {
          "base_uri": "https://localhost:8080/",
          "height": 617
        }
      },
      "source": [
        "Ne_2_image_data = xr.open_dataset(join(data_path, 'Ne-2_450000.nc')).to_array()[0]\n",
        "Ne_4_image_data = xr.open_dataset(join(data_path, 'Ne-4_450000.nc')).to_array()[0]\n",
        "y2 = Ne_2_image_data.sum(axis=0)\n",
        "y4 = Ne_4_image_data.sum(axis=0)\n",
        "plot(x_range, y2)\n",
        "plot(x_range, y4)\n",
        "\n",
        "fig=gcf()\n",
        "fig.set_facecolor('w')\n",
        "fig.set_size_inches([10,10])\n",
        "\n",
        "xlim(700, 720)"
      ],
      "execution_count": 19,
      "outputs": [
        {
          "output_type": "execute_result",
          "data": {
            "text/plain": [
              "(700.0, 720.0)"
            ]
          },
          "metadata": {
            "tags": []
          },
          "execution_count": 19
        },
        {
          "output_type": "display_data",
          "data": {
            "image/png": "[encoded data removed]",
            "text/plain": [
              "<Figure size 720x720 with 1 Axes>"
            ]
          },
          "metadata": {
            "tags": []
          }
        }
      ]
    },
    {
      "cell_type": "markdown",
      "metadata": {
        "id": "6a_BDFpf9Ggk"
      },
      "source": [
        "## 計測結果\n",
        "2ピクセル程度ずれる可能性はあった"
      ]
    },
    {
      "cell_type": "markdown",
      "metadata": {
        "id": "-_3dmRGb9PDU"
      },
      "source": [
        "## このデータで水素スペクトルのcalibration"
      ]
    },
    {
      "cell_type": "markdown",
      "metadata": {
        "id": "SA8enM65BwJ_"
      },
      "source": [
        "### ずれの計算\n"
      ]
    },
    {
      "cell_type": "code",
      "metadata": {
        "id": "w48QKNZTB9gD"
      },
      "source": [
        "x_range = np.arange(2048)\n",
        "\n",
        "image_data_1 = xr.open_dataset(join(data_path,'Ne-2_430000.nc')).to_array()[0]\n",
        "image_data_2 = xr.open_dataset(join(data_path,'Ne-2_435000.nc')).to_array()[0]\n",
        "\n",
        "y_1 = image_data_1.sum(axis=0)\n",
        "y_2 = image_data_2.sum(axis=0)\n",
        "\n",
        "plot(x_range, y_1)\n",
        "plot(x_range+1019.5, y_2)\n",
        "\n",
        "xlim(1447, 1475)"
      ],
      "execution_count": null,
      "outputs": []
    },
    {
      "cell_type": "code",
      "metadata": {
        "id": "MvRdMzilDBlP"
      },
      "source": [
        "x_range = np.arange(2048)\n",
        "\n",
        "image_data_1 = xr.open_dataset(join(data_path,'Ne-2_440000.nc')).to_array()[0]\n",
        "image_data_2 = xr.open_dataset(join(data_path,'Ne-2_445000.nc')).to_array()[0]\n",
        "\n",
        "y_1 = image_data_1.sum(axis=0)\n",
        "y_2 = image_data_2.sum(axis=0)\n",
        "\n",
        "plot(x_range, y_1)\n",
        "plot(x_range+1019, y_2)\n",
        "\n",
        "xlim(1080, 1120)"
      ],
      "execution_count": null,
      "outputs": []
    },
    {
      "cell_type": "code",
      "metadata": {
        "id": "G5xNAQdSFRBA"
      },
      "source": [
        "x_range = np.arange(2048)\n",
        "\n",
        "image_data_1 = xr.open_dataset(join(data_path,'Ne-2_445000.nc')).to_array()[0]\n",
        "image_data_2 = xr.open_dataset(join(data_path,'Ne-2_450000.nc')).to_array()[0]\n",
        "\n",
        "y_1 = image_data_1.sum(axis=0)\n",
        "y_2 = image_data_2.sum(axis=0)\n",
        "\n",
        "plot(x_range, y_1)\n",
        "plot(x_range+1016.7, y_2)\n",
        "\n",
        "xlim(1720, 1750)"
      ],
      "execution_count": null,
      "outputs": []
    },
    {
      "cell_type": "code",
      "metadata": {
        "id": "6Q4BmuQzDUbl"
      },
      "source": [
        "x_range = np.arange(2048)\n",
        "\n",
        "image_data_1 = xr.open_dataset(join(data_path,'Ne-2_450000.nc')).to_array()[0]\n",
        "image_data_2 = xr.open_dataset(join(data_path,'Ne-2_455000.nc')).to_array()[0]\n",
        "\n",
        "y_1 = image_data_1.sum(axis=0)\n",
        "y_2 = image_data_2.sum(axis=0)\n",
        "\n",
        "plot(x_range, y_1)\n",
        "plot(x_range+1000, y_2)\n",
        "\n",
        "xlim(1880, 1920)"
      ],
      "execution_count": null,
      "outputs": []
    },
    {
      "cell_type": "code",
      "metadata": {
        "id": "8PBjt2VZDxL0"
      },
      "source": [
        "x_range = np.arange(2048)\n",
        "\n",
        "image_data_1 = xr.open_dataset(join(data_path,'Ne-2_460000.nc')).to_array()[0]\n",
        "image_data_2 = xr.open_dataset(join(data_path,'Ne-2_465000.nc')).to_array()[0]\n",
        "\n",
        "y_1 = image_data_1.sum(axis=0)\n",
        "y_2 = image_data_2.sum(axis=0)\n",
        "\n",
        "plot(x_range, y_1)\n",
        "plot(x_range+997, y_2)\n",
        "\n",
        "xlim(1600, 1655)"
      ],
      "execution_count": null,
      "outputs": []
    },
    {
      "cell_type": "code",
      "metadata": {
        "id": "8BaUIQ7CFxS2"
      },
      "source": [
        "x_range = np.arange(2048)\n",
        "\n",
        "image_data_1 = xr.open_dataset(join(data_path,'Ne-2_465000.nc')).to_array()[0]\n",
        "image_data_2 = xr.open_dataset(join(data_path,'Ne-2_470000.nc')).to_array()[0]\n",
        "\n",
        "y_1 = image_data_1.sum(axis=0)\n",
        "y_2 = image_data_2.sum(axis=0)\n",
        "\n",
        "plot(x_range, y_1)\n",
        "plot(x_range+1001.1, y_2)\n",
        "\n",
        "xlim(1680, 1725)"
      ],
      "execution_count": null,
      "outputs": []
    },
    {
      "cell_type": "code",
      "metadata": {
        "id": "lYfIHyBVECio"
      },
      "source": [
        "x_range = np.arange(2048)\n",
        "\n",
        "image_data_1 = xr.open_dataset(join(data_path,'Ne-2_470000.nc')).to_array()[0]\n",
        "image_data_2 = xr.open_dataset(join(data_path,'Ne-2_475000.nc')).to_array()[0]\n",
        "\n",
        "y_1 = image_data_1.sum(axis=0)\n",
        "y_2 = image_data_2.sum(axis=0)\n",
        "\n",
        "plot(x_range, y_1)\n",
        "plot(x_range+994, y_2)\n",
        "\n",
        "xlim(1150, 1230)"
      ],
      "execution_count": null,
      "outputs": []
    },
    {
      "cell_type": "code",
      "metadata": {
        "id": "tbJRApn7EZdk",
        "outputId": "c3fcf982-3d5e-4c4b-b0a0-62f85156ccbe",
        "colab": {
          "base_uri": "https://localhost:8080/",
          "height": 312
        }
      },
      "source": [
        "moter = np.array([430000, 435000, 440000, 445000, 450000, 455000, 460000, 465000, 470000])\n",
        "overlap_array = np.array([1019.5, 1019.3, 1019, 1016.7, 1000, 998.5, 997, 1001.1, 994])\n",
        "print(moter)\n",
        "print(overlap_array)\n",
        "plot(moter, overlap_array)"
      ],
      "execution_count": 27,
      "outputs": [
        {
          "output_type": "stream",
          "text": [
            "[430000 435000 440000 445000 450000 455000 460000 465000 470000]\n",
            "[1019.5 1019.3 1019.  1016.7 1000.   998.5  997.  1001.1  994. ]\n"
          ],
          "name": "stdout"
        },
        {
          "output_type": "execute_result",
          "data": {
            "text/plain": [
              "[<matplotlib.lines.Line2D at 0x7f42c03ed828>]"
            ]
          },
          "metadata": {
            "tags": []
          },
          "execution_count": 27
        },
        {
          "output_type": "display_data",
          "data": {
            "image/png": "[encoded data removed]",
            "text/plain": [
              "<Figure size 432x288 with 1 Axes>"
            ]
          },
          "metadata": {
            "tags": [],
            "needs_background": "light"
          }
        }
      ]
    },
    {
      "cell_type": "markdown",
      "metadata": {
        "id": "II14ZLn_GiSA"
      },
      "source": [
        "## 一枚のグラフにした\n"
      ]
    },
    {
      "cell_type": "code",
      "metadata": {
        "id": "KxWBsfnl9MHG",
        "outputId": "0e2ca84a-68e3-406e-aa72-23c3883533d3",
        "colab": {
          "base_uri": "https://localhost:8080/",
          "height": 294
        }
      },
      "source": [
        "Ne_2 = [f'Ne-2_{430000 + 5000*i}.nc' for i in range(10)]\n",
        "\n",
        "x_range = np.arange(2048)\n",
        "overlap = 0\n",
        "for i,fp in enumerate(Ne_2):\n",
        "    c = 'k'\n",
        "    if i%2: c = 'C1'\n",
        "    image_data = xr.open_dataset(join(data_path,fp)).to_array()[0]\n",
        "\n",
        "    if i == 0: \n",
        "      overlap = 0\n",
        "    else:\n",
        "      overlap = overlap + overlap_array[i - 1]\n",
        "    x = x_range + overlap\n",
        "    y = image_data.sum(axis=0)\n",
        "    plot(x, y / 1e2, f'{c}')\n",
        "\n",
        "yscale('log')\n",
        "xlabel('pixel')\n",
        "#xlim(1000, 10000)\n"
      ],
      "execution_count": 45,
      "outputs": [
        {
          "output_type": "execute_result",
          "data": {
            "text/plain": [
              "Text(0.5, 0, 'pixel')"
            ]
          },
          "metadata": {
            "tags": []
          },
          "execution_count": 45
        },
        {
          "output_type": "display_data",
          "data": {
            "image/png": "[encoded data removed]",
            "text/plain": [
              "<Figure size 432x288 with 1 Axes>"
            ]
          },
          "metadata": {
            "tags": [],
            "needs_background": "light"
          }
        }
      ]
    },
    {
      "cell_type": "code",
      "metadata": {
        "id": "pFUiTPub_Lac",
        "outputId": "6c3d10a5-f804-45a3-a445-0b655708f9d2",
        "colab": {
          "base_uri": "https://localhost:8080/",
          "height": 294
        }
      },
      "source": [
        "Ne_filepath = join('drive', 'My Drive', '研究室', 'MyLeprecon', 'SpectrometerData', '20201016', 'Ne-spectrum.txt')\n",
        "ne_csv = read_csv(Ne_filepath, sep=';', skiprows=66)\n",
        "ne_csv[\"Wavelength\"] = pd.to_numeric(ne_csv[\"Wavelength\"], errors=\"coerce\")\n",
        "plot(ne_csv[\"Wavelength\"], ne_csv[\"Raw data #1\"])\n",
        "\n",
        "grid()\n",
        "xlim(590, 640)\n",
        "xlabel('wave length (nm)')"
      ],
      "execution_count": null,
      "outputs": [
        {
          "output_type": "execute_result",
          "data": {
            "text/plain": [
              "Text(0.5, 0, 'wave length (nm)')"
            ]
          },
          "metadata": {
            "tags": []
          },
          "execution_count": 56
        },
        {
          "output_type": "display_data",
          "data": {
            "image/png": "[encoded data removed]",
            "text/plain": [
              "<Figure size 432x288 with 1 Axes>"
            ]
          },
          "metadata": {
            "tags": [],
            "needs_background": "light"
          }
        }
      ]
    }
  ]
}