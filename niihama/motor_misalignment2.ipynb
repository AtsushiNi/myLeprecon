{
  "nbformat": 4,
  "nbformat_minor": 0,
  "metadata": {
    "colab": {
      "name": "motor_misalignment2.ipynb",
      "provenance": [],
      "collapsed_sections": [],
      "toc_visible": true,
      "include_colab_link": true
    },
    "kernelspec": {
      "name": "python3",
      "display_name": "Python 3"
    }
  },
  "cells": [
    {
      "cell_type": "markdown",
      "metadata": {
        "id": "view-in-github",
        "colab_type": "text"
      },
      "source": [
        "<a href=\"https://colab.research.google.com/github/AtsushiNi/myLeprecon/blob/master/niihama/motor_misalignment2.ipynb\" target=\"_parent\"><img src=\"https://colab.research.google.com/assets/colab-badge.svg\" alt=\"Open In Colab\"/></a>"
      ]
    },
    {
      "cell_type": "markdown",
      "metadata": {
        "id": "h0IPNxmHIwZL"
      },
      "source": [
        "## モーターの精度を信用しずらかったので、計測してみた\n",
        "水素-ネオン-水素-ネオンの順でスペクトルを計測<br>\n",
        "複数回の計測で値がズレていないかを見てみた<br>\n",
        "2個目のデータを分析"
      ]
    },
    {
      "cell_type": "code",
      "metadata": {
        "id": "XlqM79c2Ijt6",
        "outputId": "8975d597-0b1d-46cb-9c83-8190098b7502",
        "colab": {
          "base_uri": "https://localhost:8080/",
          "height": 118
        }
      },
      "source": [
        "%pylab inline\n",
        "!pip install netcdf4\n",
        "\n",
        "import os\n",
        "from os.path import join\n",
        "import xarray as xr\n",
        "import numpy as np\n",
        "import pandas as pd\n",
        "from pandas import read_csv\n",
        "from google.colab import drive\n",
        "\n",
        "drive.mount('/content/drive')"
      ],
      "execution_count": 5,
      "outputs": [
        {
          "output_type": "stream",
          "text": [
            "Populating the interactive namespace from numpy and matplotlib\n",
            "Requirement already satisfied: netcdf4 in /usr/local/lib/python3.6/dist-packages (1.5.4)\n",
            "Requirement already satisfied: numpy>=1.9 in /usr/local/lib/python3.6/dist-packages (from netcdf4) (1.18.5)\n",
            "Requirement already satisfied: cftime in /usr/local/lib/python3.6/dist-packages (from netcdf4) (1.2.1)\n",
            "Mounted at /content/drive\n"
          ],
          "name": "stdout"
        }
      ]
    },
    {
      "cell_type": "code",
      "metadata": {
        "id": "wqsvFOyBI5BF"
      },
      "source": [
        "data_path = join('drive', 'My Drive', '研究室', 'MyLeprecon', 'SpectrometerData', '20201020')\n",
        "\n",
        "# ファイル名のリスト\n",
        "H_1 = [f'H-1_{430000 + 5000*i}.nc' for i in range(10)]\n",
        "H_3 = [f'H-3_{430000 + 5000*i}.nc' for i in range(10)]\n",
        "Ne_2 = [f'Ne-2_{430000 + 5000*i}.nc' for i in range(10)]\n",
        "Ne_4 = [f'Ne-4_{430000 + 5000*i}.nc' for i in range(10)]\n"
      ],
      "execution_count": 6,
      "outputs": []
    },
    {
      "cell_type": "markdown",
      "metadata": {
        "id": "okv3qgQZJNOv"
      },
      "source": [
        "## このデータで水素スペクトルのcalibration"
      ]
    },
    {
      "cell_type": "markdown",
      "metadata": {
        "id": "yps3CHOtJQ9w"
      },
      "source": [
        "### ずれの計算\n"
      ]
    },
    {
      "cell_type": "code",
      "metadata": {
        "id": "wT5HQMsGJSkn"
      },
      "source": [
        "x_range = np.arange(2048)\n",
        "\n",
        "image_data_1 = xr.open_dataset(join(data_path,'Ne-4_430000.nc')).to_array()[0]\n",
        "image_data_2 = xr.open_dataset(join(data_path,'Ne-4_435000.nc')).to_array()[0]\n",
        "\n",
        "y_1 = image_data_1.sum(axis=0)\n",
        "y_2 = image_data_2.sum(axis=0)\n",
        "\n",
        "plot(x_range, y_1)\n",
        "plot(x_range+1019.3, y_2)\n",
        "\n",
        "xlim(1447, 1485)"
      ],
      "execution_count": null,
      "outputs": []
    },
    {
      "cell_type": "code",
      "metadata": {
        "id": "Gl4NdGkyJrRX"
      },
      "source": [
        "x_range = np.arange(2048)\n",
        "\n",
        "image_data_1 = xr.open_dataset(join(data_path,'Ne-4_440000.nc')).to_array()[0]\n",
        "image_data_2 = xr.open_dataset(join(data_path,'Ne-4_445000.nc')).to_array()[0]\n",
        "\n",
        "y_1 = image_data_1.sum(axis=0)\n",
        "y_2 = image_data_2.sum(axis=0)\n",
        "\n",
        "plot(x_range, y_1)\n",
        "plot(x_range+1020, y_2)\n",
        "\n",
        "xlim(1080, 1120)"
      ],
      "execution_count": null,
      "outputs": []
    },
    {
      "cell_type": "code",
      "metadata": {
        "id": "NbAlA2CvJzeW"
      },
      "source": [
        "x_range = np.arange(2048)\n",
        "\n",
        "image_data_1 = xr.open_dataset(join(data_path,'Ne-4_445000.nc')).to_array()[0]\n",
        "image_data_2 = xr.open_dataset(join(data_path,'Ne-4_450000.nc')).to_array()[0]\n",
        "\n",
        "y_1 = image_data_1.sum(axis=0)\n",
        "y_2 = image_data_2.sum(axis=0)\n",
        "\n",
        "plot(x_range, y_1)\n",
        "plot(x_range+1016.7, y_2)\n",
        "\n",
        "xlim(1720, 1750)"
      ],
      "execution_count": null,
      "outputs": []
    },
    {
      "cell_type": "code",
      "metadata": {
        "id": "cMvwPTLrJ14_"
      },
      "source": [
        "x_range = np.arange(2048)\n",
        "\n",
        "image_data_1 = xr.open_dataset(join(data_path,'Ne-4_450000.nc')).to_array()[0]\n",
        "image_data_2 = xr.open_dataset(join(data_path,'Ne-4_455000.nc')).to_array()[0]\n",
        "\n",
        "y_1 = image_data_1.sum(axis=0)\n",
        "y_2 = image_data_2.sum(axis=0)\n",
        "\n",
        "plot(x_range, y_1)\n",
        "plot(x_range+1000, y_2)\n",
        "\n",
        "xlim(1880, 1920)"
      ],
      "execution_count": null,
      "outputs": []
    },
    {
      "cell_type": "code",
      "metadata": {
        "id": "lf99lab8KGFm"
      },
      "source": [
        "x_range = np.arange(2048)\n",
        "\n",
        "image_data_1 = xr.open_dataset(join(data_path,'Ne-4_460000.nc')).to_array()[0]\n",
        "image_data_2 = xr.open_dataset(join(data_path,'Ne-4_465000.nc')).to_array()[0]\n",
        "\n",
        "y_1 = image_data_1.sum(axis=0)\n",
        "y_2 = image_data_2.sum(axis=0)\n",
        "\n",
        "plot(x_range, y_1)\n",
        "plot(x_range+997, y_2)\n",
        "\n",
        "xlim(1600, 1655)"
      ],
      "execution_count": null,
      "outputs": []
    },
    {
      "cell_type": "code",
      "metadata": {
        "id": "9e20a9HLKXqd"
      },
      "source": [
        "x_range = np.arange(2048)\n",
        "\n",
        "image_data_1 = xr.open_dataset(join(data_path,'Ne-4_465000.nc')).to_array()[0]\n",
        "image_data_2 = xr.open_dataset(join(data_path,'Ne-4_470000.nc')).to_array()[0]\n",
        "\n",
        "y_1 = image_data_1.sum(axis=0)\n",
        "y_2 = image_data_2.sum(axis=0)\n",
        "\n",
        "plot(x_range, y_1)\n",
        "plot(x_range+1002, y_2)\n",
        "\n",
        "xlim(1680, 1725)"
      ],
      "execution_count": null,
      "outputs": []
    },
    {
      "cell_type": "code",
      "metadata": {
        "id": "cczyuebcKbMZ"
      },
      "source": [
        "x_range = np.arange(2048)\n",
        "\n",
        "image_data_1 = xr.open_dataset(join(data_path,'Ne-4_470000.nc')).to_array()[0]\n",
        "image_data_2 = xr.open_dataset(join(data_path,'Ne-4_475000.nc')).to_array()[0]\n",
        "\n",
        "y_1 = image_data_1.sum(axis=0)\n",
        "y_2 = image_data_2.sum(axis=0)\n",
        "\n",
        "plot(x_range, y_1)\n",
        "plot(x_range+994, y_2)\n",
        "\n",
        "xlim(1150, 1230)"
      ],
      "execution_count": null,
      "outputs": []
    },
    {
      "cell_type": "code",
      "metadata": {
        "id": "3r5s-t22Km2t",
        "outputId": "c96377f1-8fd7-43a5-9b00-f079b5bd8911",
        "colab": {
          "base_uri": "https://localhost:8080/",
          "height": 312
        }
      },
      "source": [
        "moter = np.array([430000, 435000, 440000, 445000, 450000, 455000, 460000, 465000, 470000])\n",
        "overlap_array = np.array([1019.3, 1019.65, 1020, 1016.7, 1000, 998.5, 997, 1002, 994])\n",
        "print(moter)\n",
        "print(overlap_array)\n",
        "plot(moter, overlap_array)"
      ],
      "execution_count": 14,
      "outputs": [
        {
          "output_type": "stream",
          "text": [
            "[430000 435000 440000 445000 450000 455000 460000 465000 470000]\n",
            "[1019.3  1019.65 1020.   1016.7  1000.    998.5   997.   1002.    994.  ]\n"
          ],
          "name": "stdout"
        },
        {
          "output_type": "execute_result",
          "data": {
            "text/plain": [
              "[<matplotlib.lines.Line2D at 0x7fc43a4f6898>]"
            ]
          },
          "metadata": {
            "tags": []
          },
          "execution_count": 14
        },
        {
          "output_type": "display_data",
          "data": {
            "image/png": "[encoded data removed]",
            "text/plain": [
              "<Figure size 432x288 with 1 Axes>"
            ]
          },
          "metadata": {
            "tags": [],
            "needs_background": "light"
          }
        }
      ]
    },
    {
      "cell_type": "markdown",
      "metadata": {
        "id": "dfgrmDMUnupy"
      },
      "source": [
        "## 一枚のグラフにして小さい分光器のスペクトルと比較"
      ]
    },
    {
      "cell_type": "code",
      "metadata": {
        "id": "ieTRr7flnhdE",
        "outputId": "b33c30a9-86ae-4dfd-d04c-251443ca6e1a",
        "colab": {
          "base_uri": "https://localhost:8080/",
          "height": 636
        }
      },
      "source": [
        "fig = figure(figsize=(8.0, 8.0))\n",
        "ax1 = fig.add_subplot(2, 1, 1)\n",
        "ax2 = fig.add_subplot(2, 1, 2)\n",
        "added_axes = fig.add_axes([0, 0, 1, 1]) #補助線用のaxes\n",
        "\n",
        "Ne_2 = [f'Ne-4_{430000 + 5000*i}.nc' for i in range(10)]\n",
        "x_range = np.arange(2048)\n",
        "overlap = 0\n",
        "for i,fp in enumerate(Ne_2):\n",
        "    c = 'k'\n",
        "    if i%2: c = 'C1'\n",
        "    image_data = xr.open_dataset(join(data_path,fp)).to_array()[0]\n",
        "\n",
        "    if i == 0: \n",
        "      overlap = 0\n",
        "    else:\n",
        "      overlap = overlap + overlap_array[i - 1]\n",
        "    x = x_range + overlap\n",
        "    y = image_data.sum(axis=0)\n",
        "    ax1.plot(x, y / 1e2, f'{c}')\n",
        "ax1.set(xlabel='pixel', xlim=[12000, 0], yscale='log')\n",
        "\n",
        "Ne_filepath = join('drive', 'My Drive', '研究室', 'MyLeprecon', 'SpectrometerData', '20201016', 'Ne-spectrum.txt')\n",
        "ne_csv = read_csv(Ne_filepath, sep=';', skiprows=66)\n",
        "ne_csv[\"Wavelength\"] = pd.to_numeric(ne_csv[\"Wavelength\"], errors=\"coerce\")\n",
        "ax2.plot(ne_csv[\"Wavelength\"], ne_csv[\"Raw data #1\"])\n",
        "ax2.set(xlabel='wave length (nm)', xlim=[590, 650])\n",
        "\n",
        "added_axes.patch.set_alpha(0)\n",
        "added_axes.set(xlim=[0, 1000], ylim=[0,1000])\n",
        "added_axes.plot([240, 300], [500, 200])\n",
        "added_axes.plot([410, 430], [500, 280])\n",
        "added_axes.plot([600, 600], [500, 260])\n",
        "added_axes.plot([800, 780], [520, 460])"
      ],
      "execution_count": 15,
      "outputs": [
        {
          "output_type": "execute_result",
          "data": {
            "text/plain": [
              "[<matplotlib.lines.Line2D at 0x7fc43a381ba8>]"
            ]
          },
          "metadata": {
            "tags": []
          },
          "execution_count": 15
        },
        {
          "output_type": "display_data",
          "data": {
            "image/png": "[encoded data removed]",
            "text/plain": [
              "<Figure size 576x576 with 3 Axes>"
            ]
          },
          "metadata": {
            "tags": [],
            "needs_background": "light"
          }
        }
      ]
    },
    {
      "cell_type": "markdown",
      "metadata": {
        "id": "NJFJ4inhn5Qy"
      },
      "source": [
        "## ネオンのcalibration"
      ]
    },
    {
      "cell_type": "code",
      "metadata": {
        "id": "x42CKhqXn8FS",
        "outputId": "dc4a612d-413d-40c5-cafb-0917cf75662b",
        "colab": {
          "base_uri": "https://localhost:8080/",
          "height": 294
        }
      },
      "source": [
        "Ne_4 = [f'Ne-4_{430000 + 5000*i}.nc' for i in range(10)]\n",
        "x_range = np.arange(2048)\n",
        "overlap = 0\n",
        "for i,fp in enumerate(Ne_2):\n",
        "    c = 'k'\n",
        "    if i%2: c = 'C1'\n",
        "    image_data = xr.open_dataset(join(data_path,fp)).to_array()[0]\n",
        "\n",
        "    if i == 0: \n",
        "      overlap = 0\n",
        "    else:\n",
        "      overlap = overlap + overlap_array[i - 1]\n",
        "    x = x_range + overlap\n",
        "    y = image_data.sum(axis=0)\n",
        "    plot(x, y / 1e2, f'{c}')\n",
        "\n",
        "xlabel('pixel')\n",
        "xlim(12000, 0)\n",
        "yscale('log')\n",
        "\n",
        "xlim(10400, 10200)\n",
        "axvline(10279)\n",
        "axvline(9269)\n",
        "axvline(8770)\n",
        "axvline(7690)\n",
        "axvline(7210)\n",
        "axvline(5969)"
      ],
      "execution_count": 33,
      "outputs": [
        {
          "output_type": "execute_result",
          "data": {
            "text/plain": [
              "<matplotlib.lines.Line2D at 0x7fc43717d2e8>"
            ]
          },
          "metadata": {
            "tags": []
          },
          "execution_count": 33
        },
        {
          "output_type": "display_data",
          "data": {
            "image/png": "[encoded data removed]",
            "text/plain": [
              "<Figure size 432x288 with 1 Axes>"
            ]
          },
          "metadata": {
            "tags": [],
            "needs_background": "light"
          }
        }
      ]
    },
    {
      "cell_type": "markdown",
      "metadata": {
        "id": "YEzgWaEXooUx"
      },
      "source": [
        "| pixels | wave length(nm) |\n",
        "| -- | -- |\n",
        "| 5969 | 622.0 |\n",
        "| 7210 | 614.5 |\n",
        "| 7690 | 609.8 |\n",
        "| 8770 | 607.5 |\n",
        "| 10279 | 603 |"
      ]
    },
    {
      "cell_type": "code",
      "metadata": {
        "id": "IAk9YYKhoBSa",
        "outputId": "ec962ebe-d1a7-4f67-d3fd-8a197a042f09",
        "colab": {
          "base_uri": "https://localhost:8080/",
          "height": 298
        }
      },
      "source": [
        "pixels = np.array([10279, 8770, 7690, 7210, 5969])\n",
        "wave_length = np.array([603, 607.5, 609.8, 614.5, 622.0])\n",
        "wave_length_kuzmin = np.array([602.99, 607.43, 609.62, 614.31, 621.73])\n",
        "plot(pixels, wave_length_kuzmin, 'o')\n",
        "\n",
        "pixels_to_wave_length_func = np.poly1d(np.polyfit(pixels, wave_length_kuzmin, 2))\n",
        "x = np.linspace(3500, 20000, 100)\n",
        "plot(x, pixels_to_wave_length_func(x))\n",
        "\n",
        "xlabel('pixels')\n",
        "ylabel('wave length (nm)')\n",
        "xlim(5800, 11000)\n",
        "ylim(600, 630)\n",
        "print(\"1nm相当のpixel数:\", end=' ')\n",
        "print(-(pixels[0]-pixels[4])/(wave_length[0]-wave_length[4]))"
      ],
      "execution_count": 35,
      "outputs": [
        {
          "output_type": "stream",
          "text": [
            "1nm相当のpixel数: 226.8421052631579\n"
          ],
          "name": "stdout"
        },
        {
          "output_type": "display_data",
          "data": {
            "image/png": "[encoded data removed]",
            "text/plain": [
              "<Figure size 432x288 with 1 Axes>"
            ]
          },
          "metadata": {
            "tags": [],
            "needs_background": "light"
          }
        }
      ]
    },
    {
      "cell_type": "code",
      "metadata": {
        "id": "BkczBXZdo5-9"
      },
      "source": [
        ""
      ],
      "execution_count": null,
      "outputs": []
    }
  ]
}